{
 "cells": [
  {
   "cell_type": "markdown",
   "metadata": {
    "collapsed": false,
    "slideshow": {
     "slide_type": "slide"
    }
   },
   "source": [
    "# Gradleに関する近況報告\n",
    "\n",
    "[Java Casual Talks #1](https://atnd.org/events/70260) / [#javacasual](http://twitter.com/search?q=%23javacasual)\n"
   ]
  },
  {
   "cell_type": "markdown",
   "metadata": {
    "slideshow": {
     "slide_type": "slide"
    }
   },
   "source": [
    "## お前、誰よ？\n",
    "\n",
    "* よしだ\n",
    "* [@grimrose](https://twitter.com/grimrose) /とーます\n",
    "\n",
    "  * Yokohama.groovy\n",
    "  * 好きな言語: Groovy\n",
    "  * 好きなIDE: IntelliJ IDEA"
   ]
  },
  {
   "cell_type": "markdown",
   "metadata": {
    "slideshow": {
     "slide_type": "slide"
    }
   },
   "source": [
    "![gradle](http://gradle.wpengine.netdna-cdn.com/wp-content/uploads/2015/03/GradleLogoReg.png)"
   ]
  },
  {
   "cell_type": "code",
   "execution_count": 2,
   "metadata": {
    "collapsed": false,
    "scrolled": true,
    "slideshow": {
     "slide_type": "slide"
    }
   },
   "outputs": [
    {
     "name": "stdout",
     "output_type": "stream",
     "text": [
      "\u001b[0m\r\n",
      "------------------------------------------------------------\r\n",
      "Gradle 2.7\r\n",
      "------------------------------------------------------------\r\n",
      "\r\n",
      "Build time:   2015-09-14 07:26:16 UTC\r\n",
      "Build number: none\r\n",
      "Revision:     c41505168da69fb0650f4e31c9e01b50ffc97893\r\n",
      "\r\n",
      "Groovy:       2.3.10\r\n",
      "Ant:          Apache Ant(TM) version 1.9.3 compiled on December 23 2013\r\n",
      "JVM:          1.8.0_40 (Oracle Corporation 25.40-b25)\r\n",
      "OS:           Mac OS X 10.9.5 x86_64\r\n",
      "\r\n",
      "\u001b[0m"
     ]
    }
   ],
   "source": [
    "gradle -v"
   ]
  },
  {
   "cell_type": "markdown",
   "metadata": {
    "slideshow": {
     "slide_type": "slide"
    }
   },
   "source": [
    "その前に"
   ]
  },
  {
   "cell_type": "markdown",
   "metadata": {
    "slideshow": {
     "slide_type": "slide"
    }
   },
   "source": [
    "## GVM (Groovy enVironment Manager)"
   ]
  },
  {
   "cell_type": "markdown",
   "metadata": {
    "slideshow": {
     "slide_type": "slide"
    }
   },
   "source": [
    "![SDKMAN](http://sdkman.io/img/bubble-logo-sdkman-groovy-color.svg)"
   ]
  },
  {
   "cell_type": "markdown",
   "metadata": {
    "slideshow": {
     "slide_type": "slide"
    }
   },
   "source": [
    "[sdkman.io](http://sdkman.io/)"
   ]
  },
  {
   "cell_type": "markdown",
   "metadata": {
    "slideshow": {
     "slide_type": "slide"
    }
   },
   "source": [
    "* [Rename GVM to avoid conflict with Golang GVM #312](https://github.com/sdkman/sdkman-cli/issues/312)\n",
    "\n",
    "* [The name conflicts with Groovy's gvm. #82](https://github.com/moovweb/gvm/issues/82)"
   ]
  },
  {
   "cell_type": "markdown",
   "metadata": {
    "slideshow": {
     "slide_type": "slide"
    }
   },
   "source": [
    "## RELEASE早かったのはどっち？"
   ]
  },
  {
   "cell_type": "markdown",
   "metadata": {
    "slideshow": {
     "slide_type": "slide"
    }
   },
   "source": [
    "### Groovy enVironment Manager\n",
    "\n",
    "https://github.com/sdkman/sdkman-cli/releases/tag/0.8.5\n",
    "\n",
    "-> tagged this on Dec 9, 2012"
   ]
  },
  {
   "cell_type": "markdown",
   "metadata": {
    "slideshow": {
     "slide_type": "slide"
    }
   },
   "source": [
    "### Go Version Manager\n",
    "\n",
    "https://github.com/moovweb/gvm/releases/tag/release.r60.3\n",
    "\n",
    "-> tagged on **Mar 1, 2012**"
   ]
  },
  {
   "cell_type": "markdown",
   "metadata": {
    "slideshow": {
     "slide_type": "slide"
    }
   },
   "source": [
    "あ、はい…"
   ]
  },
  {
   "cell_type": "markdown",
   "metadata": {
    "slideshow": {
     "slide_type": "slide"
    }
   },
   "source": [
    "Groovy enVironment Manager -> SDKMAN"
   ]
  },
  {
   "cell_type": "markdown",
   "metadata": {
    "slideshow": {
     "slide_type": "slide"
    }
   },
   "source": [
    "[[Groovy]gvmが生まれ変わった。SDKMANでGrvoovyやGrailsをインストール](http://qiita.com/saba1024/items/967ee3d8a79440a97336)"
   ]
  },
  {
   "cell_type": "markdown",
   "metadata": {
    "slideshow": {
     "slide_type": "slide"
    }
   },
   "source": [
    "[How to update sdkman from gvm #groovy #sdkman](http://mike-neck.hatenadiary.com/entry/2015/09/17/234228)"
   ]
  },
  {
   "cell_type": "markdown",
   "metadata": {
    "collapsed": false,
    "slideshow": {
     "slide_type": "slide"
    }
   },
   "source": [
    "``` shell\n",
    "$ curl -s get.sdkman.io | bash\n",
    "```\n",
    "\n",
    "``` shell\n",
    "$ source \"$HOME/.sdkman/bin/sdkman-init.sh\"\n",
    "```"
   ]
  },
  {
   "cell_type": "code",
   "execution_count": 4,
   "metadata": {
    "collapsed": false,
    "slideshow": {
     "slide_type": "slide"
    }
   },
   "outputs": [
    {
     "name": "stdout",
     "output_type": "stream",
     "text": [
      "\r\n",
      "Usage: sdk <command> <candidate> [version]\r\n",
      "       sdk offline <enable|disable>\r\n",
      "\r\n",
      "   commands:\r\n",
      "       install   or i    <candidate> [version]\r\n",
      "       uninstall or rm   <candidate> <version>\r\n",
      "       list      or ls   <candidate>\r\n",
      "       use       or u    <candidate> [version]\r\n",
      "       default   or d    <candidate> [version]\r\n",
      "       current   or c    [candidate]\r\n",
      "       outdated  or o    [candidate]\r\n",
      "       version   or v\r\n",
      "       broadcast or b\r\n",
      "       help      or h\r\n",
      "       offline           <enable|disable>\r\n",
      "       selfupdate        [force]\r\n",
      "       flush             <candidates|broadcast|archives|temp>\r\n",
      "\r\n",
      "   candidate  :  asciidoctorj, crash, gaiden, glide, gradle, grails, griffon, groovy, groovyserv, jbake, jbossforge, lazybones, springboot, vertx\r\n",
      "   version    :  where optional, defaults to latest stable if not provided\r\n",
      "\r\n",
      "eg: sdk install groovy\r\n"
     ]
    }
   ],
   "source": [
    "sdk help"
   ]
  },
  {
   "cell_type": "markdown",
   "metadata": {
    "slideshow": {
     "slide_type": "slide"
    }
   },
   "source": [
    "http://sdkman.io/usage.html"
   ]
  },
  {
   "cell_type": "code",
   "execution_count": 1,
   "metadata": {
    "collapsed": false,
    "slideshow": {
     "slide_type": "slide"
    }
   },
   "outputs": [
    {
     "name": "stdout",
     "output_type": "stream",
     "text": [
      "\r\n",
      "================================================================================\r\n",
      "Available Gradle Versions\r\n",
      "================================================================================\r\n",
      "     2.8-rc-1             1.4                                                      \r\n",
      " > * 2.7                  1.3                                                      \r\n",
      "     2.6                  1.2                                                      \r\n",
      "     2.5                  1.12                                                     \r\n",
      "     2.4                  1.11                                                     \r\n",
      "     2.3                  1.10                                                     \r\n",
      "     2.2.1                1.1                                                      \r\n",
      "     2.2                  1.0                                                      \r\n",
      "     2.1                  0.9.2                                                    \r\n",
      "     2.0                  0.9.1                                                    \r\n",
      "     1.9                  0.9                                                      \r\n",
      "     1.8                  0.8                                                      \r\n",
      "     1.7                  0.7                                                      \r\n",
      "     1.6                                                                           \r\n",
      "     1.5                                                                           \r\n",
      "\r\n",
      "================================================================================\r\n",
      "+ - local version\r\n",
      "* - installed\r\n",
      "> - currently in use\r\n",
      "================================================================================\r\n"
     ]
    }
   ],
   "source": [
    "sdk list gradle"
   ]
  },
  {
   "cell_type": "code",
   "execution_count": 5,
   "metadata": {
    "collapsed": false,
    "slideshow": {
     "slide_type": "slide"
    }
   },
   "outputs": [
    {
     "name": "stdout",
     "output_type": "stream",
     "text": [
      "\r\n",
      "Stop! gradle 2.7 is already installed.\r\n"
     ]
    }
   ],
   "source": [
    "sdk i gradle"
   ]
  },
  {
   "cell_type": "markdown",
   "metadata": {
    "slideshow": {
     "slide_type": "slide"
    }
   },
   "source": [
    "## 2.7について"
   ]
  },
  {
   "cell_type": "markdown",
   "metadata": {
    "slideshow": {
     "slide_type": "slide"
    }
   },
   "source": [
    "[今更だけど、Gradleをちゃんと追いかけよう - gradle2.7-rc1がリリースされました](http://mike-neck.hatenadiary.com/entry/2015/08/29/071619)\n",
    "\n",
    "> 内容については、きっとよしださんがどっかの勉強会で詳しく解説してくれると思うので、ここでは雑に紹介します(人任せ)。"
   ]
  },
  {
   "cell_type": "markdown",
   "metadata": {
    "slideshow": {
     "slide_type": "slide"
    }
   },
   "source": [
    "あ、はい…"
   ]
  },
  {
   "cell_type": "markdown",
   "metadata": {
    "slideshow": {
     "slide_type": "slide"
    }
   },
   "source": [
    "といっても、rc-1から正式リリースで追加されたのは、以下の内容くらいです。\n",
    "\n",
    "* [[GRADLE-2316]](https://issues.gradle.org/browse/GRADLE-2316) - Received invalid response from the daemon\n",
    "\n",
    "* [[GRADLE-3338]](https://issues.gradle.org/browse/GRADLE-3338) - Fetching artifacts from s3 backed repository fails with jdk8u60\n"
   ]
  },
  {
   "cell_type": "markdown",
   "metadata": {
    "slideshow": {
     "slide_type": "slide"
    }
   },
   "source": [
    "なので、Gradle芸人こと[@mike_neck](https://twitter.com/mike_neck)さんの[記事](http://mike-neck.hatenadiary.com/entry/2015/08/29/071619)を見ておいてください。"
   ]
  },
  {
   "cell_type": "markdown",
   "metadata": {
    "slideshow": {
     "slide_type": "slide"
    }
   },
   "source": [
    "## 2.8について"
   ]
  },
  {
   "cell_type": "markdown",
   "metadata": {
    "slideshow": {
     "slide_type": "slide"
    }
   },
   "source": [
    "[Gradle2.8 rc1が出たようです。 #gradle](http://mike-neck.hatenadiary.com/entry/2015/10/01/133618)"
   ]
  },
  {
   "cell_type": "markdown",
   "metadata": {},
   "source": [
    "さすが、[@mike_neck](https://twitter.com/mike_neck)さん。仕事が早い。"
   ]
  },
  {
   "cell_type": "markdown",
   "metadata": {
    "slideshow": {
     "slide_type": "slide"
    }
   },
   "source": [
    "### 重要\n",
    "\n",
    "**ビルドが早くなるよ!**"
   ]
  },
  {
   "cell_type": "markdown",
   "metadata": {
    "slideshow": {
     "slide_type": "slide"
    }
   },
   "source": [
    "### その他に\n",
    "\n",
    "* Zipファイル名のエンコーディングを明示的に出来るようになった。\n",
    "* プラグイン作っている人は、いろいろ便利機能が追加されたので見ておいてください。\n",
    "* PMDプラグイン使っている人は、ちょっと楽になるかも。\n"
   ]
  },
  {
   "cell_type": "markdown",
   "metadata": {
    "slideshow": {
     "slide_type": "slide"
    }
   },
   "source": [
    "> 世間ではBazelが流行っていますが"
   ]
  },
  {
   "cell_type": "markdown",
   "metadata": {
    "slideshow": {
     "slide_type": "slide"
    }
   },
   "source": [
    "## Bazel ?"
   ]
  },
  {
   "cell_type": "markdown",
   "metadata": {
    "slideshow": {
     "slide_type": "slide"
    }
   },
   "source": [
    "[Gradle Team Perspective on Bazel](https://gradle.org/gradle-team-perspective-on-bazel/)"
   ]
  },
  {
   "cell_type": "markdown",
   "metadata": {
    "slideshow": {
     "slide_type": "slide"
    }
   },
   "source": [
    "## 意訳\n",
    "\n",
    "* Googleのソースコードは、巨大でモノリシックなレポジトリで管理している。\n",
    "* パフォーマンスを重視すると並行でビルドしたい。\n",
    "* 他にも並行でビルドできるのもある([Buck](https://buckbuild.com/), [Pants](http://pantsbuild.github.io/))。\n",
    "* Gradleも3.0に向けて新しいモデルを再構築中"
   ]
  },
  {
   "cell_type": "markdown",
   "metadata": {
    "collapsed": true,
    "slideshow": {
     "slide_type": "slide"
    }
   },
   "source": [
    "![Bazel](http://bazel.io/images/bazel-logo.png)"
   ]
  },
  {
   "cell_type": "markdown",
   "metadata": {
    "slideshow": {
     "slide_type": "slide"
    }
   },
   "source": [
    "[bazel.io](http://bazel.io/)"
   ]
  },
  {
   "cell_type": "markdown",
   "metadata": {
    "slideshow": {
     "slide_type": "slide"
    }
   },
   "source": [
    "http://bazel.io/faq.html\n",
    "\n",
    "> How do you pronounce \"Bazel\"?\n",
    "\n",
    "> The same way as \"basil\" (the herb) in US English: \"BAY-zel\". It rhymes with \"hazel\". IPA: /ˈbeɪzˌəl/\n"
   ]
  },
  {
   "cell_type": "markdown",
   "metadata": {
    "slideshow": {
     "slide_type": "slide"
    }
   },
   "source": [
    "> What is Bazel best at?\n",
    "\n",
    "> Bazel shines at building and testing projects with the following properties:\n",
    "\n",
    "> * Projects with a large codebase\n",
    "> * Projects written in (multiple) compiled languages\n",
    "> * Projects that deploy on multiple platforms\n",
    "> * Projects that have extensive tests\n"
   ]
  },
  {
   "cell_type": "markdown",
   "metadata": {
    "slideshow": {
     "slide_type": "slide"
    }
   },
   "source": [
    "http://bazel.io/roadmap.html"
   ]
  },
  {
   "cell_type": "markdown",
   "metadata": {
    "slideshow": {
     "slide_type": "slide"
    }
   },
   "source": [
    "[次世代ビルドツールBazelを使ってAndroidアプリをビルドする](http://techlife.cookpad.com/entry/introduce-bazel-build)"
   ]
  },
  {
   "cell_type": "markdown",
   "metadata": {
    "slideshow": {
     "slide_type": "slide"
    }
   },
   "source": [
    "<blockquote class=\"twitter-tweet\" lang=\"ja\"><p lang=\"ja\" dir=\"ltr\">人類は永遠にビルドツールを再発明し続けるのか <a href=\"http://t.co/gOJc9MzoSg\">http://t.co/gOJc9MzoSg</a></p>&mdash; 山本裕介 (@yusuke) <a href=\"https://twitter.com/yusuke/status/649377678911410176\">2015, 10月 1</a></blockquote>\n",
    "<script async src=\"//platform.twitter.com/widgets.js\" charset=\"utf-8\"></script>"
   ]
  },
  {
   "cell_type": "markdown",
   "metadata": {
    "slideshow": {
     "slide_type": "slide"
    }
   },
   "source": [
    "## まとめ\n",
    "\n",
    "* GVM使っていた人は、更新してね。\n",
    "* Gradleもビルドの時間を短縮出来るように改善中。\n",
    "* Javaを並列ビルドが出来るツールがいろいろあるよ。\n",
    "* Googleが巨大なレポジトリをビルドする為のツールとして、Bazelを作っているよ。\n",
    "* Android StudioでBazelを利用したい人は、2016年5月のstableまでしばしお待ちを。"
   ]
  },
  {
   "cell_type": "markdown",
   "metadata": {
    "slideshow": {
     "slide_type": "slide"
    }
   },
   "source": [
    "## 最後に\n",
    "\n",
    "**Radical good speed has been required for JVM build tool !**"
   ]
  }
 ],
 "metadata": {
  "celltoolbar": "Slideshow",
  "kernelspec": {
   "display_name": "Bash",
   "language": "bash",
   "name": "bash"
  },
  "language_info": {
   "codemirror_mode": "shell",
   "file_extension": ".sh",
   "mimetype": "text/x-sh",
   "name": "bash"
  }
 },
 "nbformat": 4,
 "nbformat_minor": 0
}
